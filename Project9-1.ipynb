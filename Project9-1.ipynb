{
    "nbformat_minor": 1, 
    "cells": [
        {
            "source": "from bs4 import BeautifulSoup\nsoup = BeautifulSoup('https://en.wikipedia.org/wiki/List_of_postal_codes_of_Canada:_M', 'html.parser')", 
            "cell_type": "code", 
            "metadata": {}, 
            "outputs": [
                {
                    "output_type": "stream", 
                    "name": "stderr", 
                    "text": "/opt/conda/envs/DSX-Python35/lib/python3.5/site-packages/bs4/__init__.py:282: UserWarning: \"https://en.wikipedia.org/wiki/List_of_postal_codes_of_Canada:_M\" looks like a URL. Beautiful Soup is not an HTTP client. You should probably use an HTTP client like requests to get the document behind the URL, and feed that document to Beautiful Soup.\n  ' that document to Beautiful Soup.' % decoded_markup\n"
                }
            ], 
            "execution_count": 2
        }, 
        {
            "source": "!wget -O Wikipedia.html https://en.wikipedia.org/wiki/List_of_postal_codes_of_Canada:_M\n#with open ('List of postal codes of Canada_ M - Wikipedia.html') as htmlfile:\n#    soup = BeautifulSoup(htmlfile, 'html.parser')\n#print(soup.prettify())", 
            "cell_type": "code", 
            "metadata": {}, 
            "outputs": [
                {
                    "output_type": "stream", 
                    "name": "stdout", 
                    "text": "--2018-12-26 04:39:04--  https://en.wikipedia.org/wiki/List_of_postal_codes_of_Canada:_M\nResolving en.wikipedia.org (en.wikipedia.org)... 208.80.154.224, 2620:0:861:ed1a::1\nConnecting to en.wikipedia.org (en.wikipedia.org)|208.80.154.224|:443... connected.\nHTTP request sent, awaiting response... 200 OK\nLength: 80322 (78K) [text/html]\nSaving to: \u2018Wikipedia.html\u2019\n\n100%[======================================>] 80,322       444KB/s   in 0.2s   \n\n2018-12-26 04:39:04 (444 KB/s) - \u2018Wikipedia.html\u2019 saved [80322/80322]\n\n"
                }
            ], 
            "execution_count": 8
        }, 
        {
            "source": "import pandas as pd\ndf = pd.DataFrame(columns = [\"Postcode\", \"Borough\", \"Neighbourhood\"]) #\u521b\u5efa\u4e00\u4e2a\u7a7a\u7684dataframe\nwith open ('Wikipedia.html') as htmlfile:\n    soup = BeautifulSoup(htmlfile, 'html.parser')\n#print(soup.prettify())\nresult=soup.get_text()\na=result.index('Postcode')\nb=result.index('Most populated FSAs')\n#print(result.index('Postcode'))\n#print(result.index('Most populated FSAs'))\nfinalre=result[a:b-2]\nfinalre=finalre[33:]\n#print(finalre.index('\\n'))\n#a=result.index('\\n')\n#tem=finalre[0:3]\n#print(tem)\ni=1\ncol=[1]\nwhile(finalre.find('\\n')>-1):\n    a=finalre.index('\\n')\n    tem1=finalre[0:a]\n    #print(tem1)\n    finalre=finalre[a+1:]\n    a=finalre.index('\\n')\n    tem2=finalre[0:a]\n    #print(tem2)\n    finalre=finalre[a+1:]\n    a=finalre.index('\\n')\n    tem3=finalre[0:a]\n    #print(tem3)\n    finalre=finalre[a+3:]\n    if(tem2!='Not assigned'):\n        if(tem1==col[0]):\n            #print(\"!!!!!!!!!!!\")\n            #print(col[2])\n            a=col[2]\n            #print(df.iloc[2,2])\n            #print(i)\n            df.iloc[i-2,2] = a+\",\"+tem3\n            #print(col)\n        else:\n            col=[tem1,tem2,tem3]\n            df.loc[i]=col\n            i=i+1\n            #print(i)\n    #print(finalre)\n    #b=result.index('/n')\n#print(finalre.index('\\n'))\ndf", 
            "cell_type": "code", 
            "metadata": {}, 
            "outputs": [
                {
                    "output_type": "execute_result", 
                    "data": {
                        "text/plain": "    Postcode           Borough  \\\n1        M3A        North York   \n2        M4A        North York   \n3        M5A  Downtown Toronto   \n4        M6A        North York   \n5        M7A      Queen's Park   \n6        M9A         Etobicoke   \n7        M1B       Scarborough   \n8        M3B        North York   \n9        M4B         East York   \n10       M5B  Downtown Toronto   \n11       M6B        North York   \n12       M9B         Etobicoke   \n13       M1C       Scarborough   \n14       M3C        North York   \n15       M4C         East York   \n16       M5C  Downtown Toronto   \n17       M6C              York   \n18       M9C         Etobicoke   \n19       M1E       Scarborough   \n20       M4E      East Toronto   \n21       M5E  Downtown Toronto   \n22       M6E              York   \n23       M1G       Scarborough   \n24       M4G         East York   \n25       M5G  Downtown Toronto   \n26       M6G  Downtown Toronto   \n27       M1H       Scarborough   \n28       M2H        North York   \n29       M3H        North York   \n30       M4H         East York   \n..       ...               ...   \n74       M4R   Central Toronto   \n75       M5R   Central Toronto   \n76       M6R      West Toronto   \n77       M7R       Mississauga   \n78       M9R         Etobicoke   \n79       M1S       Scarborough   \n80       M4S   Central Toronto   \n81       M5S  Downtown Toronto   \n82       M6S      West Toronto   \n83       M1T       Scarborough   \n84       M4T   Central Toronto   \n85       M5T  Downtown Toronto   \n86       M1V       Scarborough   \n87       M4V   Central Toronto   \n88       M5V  Downtown Toronto   \n89       M8V         Etobicoke   \n90       M9V         Etobicoke   \n91       M1W       Scarborough   \n92       M4W  Downtown Toronto   \n93       M5W  Downtown Toronto   \n94       M8W         Etobicoke   \n95       M9W         Etobicoke   \n96       M1X       Scarborough   \n97       M4X  Downtown Toronto   \n98       M5X  Downtown Toronto   \n99       M8X         Etobicoke   \n100      M4Y  Downtown Toronto   \n101      M7Y      East Toronto   \n102      M8Y         Etobicoke   \n103      M8Z         Etobicoke   \n\n                                        Neighbourhood  \n1                                           Parkwoods  \n2                                    Victoria Village  \n3                            Harbourfront,Regent Park  \n4                     Lawrence Heights,Lawrence Manor  \n5                                        Not assigned  \n6                                    Islington Avenue  \n7                                       Rouge,Malvern  \n8                                     Don Mills North  \n9                      Woodbine Gardens,Parkview Hill  \n10                            Ryerson,Garden District  \n11                                          Glencairn  \n12                         Cloverdale,West Deane Park  \n13                          Highland Creek,Port Union  \n14                    Flemingdon Park,Don Mills South  \n15                                   Woodbine Heights  \n16                                     St. James Town  \n17                                 Humewood-Cedarvale  \n18                Bloordale Gardens,Old Burnhamthorpe  \n19                                Guildwood,West Hill  \n20                                        The Beaches  \n21                                        Berczy Park  \n22                                Caledonia-Fairbanks  \n23                                             Woburn  \n24                                            Leaside  \n25                                 Central Bay Street  \n26                                           Christie  \n27                                          Cedarbrae  \n28                                  Hillcrest Village  \n29                      Bathurst Manor,Wilson Heights  \n30                                   Thorncliffe Park  \n..                                                ...  \n74                                 North Toronto West  \n75                                The Annex,Yorkville  \n76                              Parkdale,Roncesvalles  \n77              Canada Post Gateway Processing Centre  \n78                     Kingsview Village,St. Phillips  \n79                                          Agincourt  \n80                                         Davisville  \n81                      Harbord,University of Toronto  \n82                                  Runnymede,Swansea  \n83                       Clarks Corners,Tam O'Shanter  \n84                         Moore Park,Summerhill East  \n85                        Chinatown,Kensington Market  \n86                       Agincourt North,Steeles East  \n87                          Deer Park,Summerhill West  \n88                             CN Tower,South Niagara  \n89                      Humber Bay Shores,New Toronto  \n90                         Albion Gardens,Thistletown  \n91                       L'Amoreaux West,Steeles West  \n92                                           Rosedale  \n93                    Stn A PO Boxes 25 The Esplanade  \n94                              Alderwood,Long Branch  \n95                                          Northwest  \n96                                        Upper Rouge  \n97                         Cabbagetown,St. James Town  \n98              First Canadian Place,Underground city  \n99                        The Kingsway,Old Mill North  \n100                              Church and Wellesley  \n101  Business reply mail Processing Centre969 Eastern  \n102                               Humber Bay,Sunnylea  \n103           Kingsway Park South West,South of Bloor  \n\n[103 rows x 3 columns]", 
                        "text/html": "<div>\n<style scoped>\n    .dataframe tbody tr th:only-of-type {\n        vertical-align: middle;\n    }\n\n    .dataframe tbody tr th {\n        vertical-align: top;\n    }\n\n    .dataframe thead th {\n        text-align: right;\n    }\n</style>\n<table border=\"1\" class=\"dataframe\">\n  <thead>\n    <tr style=\"text-align: right;\">\n      <th></th>\n      <th>Postcode</th>\n      <th>Borough</th>\n      <th>Neighbourhood</th>\n    </tr>\n  </thead>\n  <tbody>\n    <tr>\n      <th>1</th>\n      <td>M3A</td>\n      <td>North York</td>\n      <td>Parkwoods</td>\n    </tr>\n    <tr>\n      <th>2</th>\n      <td>M4A</td>\n      <td>North York</td>\n      <td>Victoria Village</td>\n    </tr>\n    <tr>\n      <th>3</th>\n      <td>M5A</td>\n      <td>Downtown Toronto</td>\n      <td>Harbourfront,Regent Park</td>\n    </tr>\n    <tr>\n      <th>4</th>\n      <td>M6A</td>\n      <td>North York</td>\n      <td>Lawrence Heights,Lawrence Manor</td>\n    </tr>\n    <tr>\n      <th>5</th>\n      <td>M7A</td>\n      <td>Queen's Park</td>\n      <td>Not assigned</td>\n    </tr>\n    <tr>\n      <th>6</th>\n      <td>M9A</td>\n      <td>Etobicoke</td>\n      <td>Islington Avenue</td>\n    </tr>\n    <tr>\n      <th>7</th>\n      <td>M1B</td>\n      <td>Scarborough</td>\n      <td>Rouge,Malvern</td>\n    </tr>\n    <tr>\n      <th>8</th>\n      <td>M3B</td>\n      <td>North York</td>\n      <td>Don Mills North</td>\n    </tr>\n    <tr>\n      <th>9</th>\n      <td>M4B</td>\n      <td>East York</td>\n      <td>Woodbine Gardens,Parkview Hill</td>\n    </tr>\n    <tr>\n      <th>10</th>\n      <td>M5B</td>\n      <td>Downtown Toronto</td>\n      <td>Ryerson,Garden District</td>\n    </tr>\n    <tr>\n      <th>11</th>\n      <td>M6B</td>\n      <td>North York</td>\n      <td>Glencairn</td>\n    </tr>\n    <tr>\n      <th>12</th>\n      <td>M9B</td>\n      <td>Etobicoke</td>\n      <td>Cloverdale,West Deane Park</td>\n    </tr>\n    <tr>\n      <th>13</th>\n      <td>M1C</td>\n      <td>Scarborough</td>\n      <td>Highland Creek,Port Union</td>\n    </tr>\n    <tr>\n      <th>14</th>\n      <td>M3C</td>\n      <td>North York</td>\n      <td>Flemingdon Park,Don Mills South</td>\n    </tr>\n    <tr>\n      <th>15</th>\n      <td>M4C</td>\n      <td>East York</td>\n      <td>Woodbine Heights</td>\n    </tr>\n    <tr>\n      <th>16</th>\n      <td>M5C</td>\n      <td>Downtown Toronto</td>\n      <td>St. James Town</td>\n    </tr>\n    <tr>\n      <th>17</th>\n      <td>M6C</td>\n      <td>York</td>\n      <td>Humewood-Cedarvale</td>\n    </tr>\n    <tr>\n      <th>18</th>\n      <td>M9C</td>\n      <td>Etobicoke</td>\n      <td>Bloordale Gardens,Old Burnhamthorpe</td>\n    </tr>\n    <tr>\n      <th>19</th>\n      <td>M1E</td>\n      <td>Scarborough</td>\n      <td>Guildwood,West Hill</td>\n    </tr>\n    <tr>\n      <th>20</th>\n      <td>M4E</td>\n      <td>East Toronto</td>\n      <td>The Beaches</td>\n    </tr>\n    <tr>\n      <th>21</th>\n      <td>M5E</td>\n      <td>Downtown Toronto</td>\n      <td>Berczy Park</td>\n    </tr>\n    <tr>\n      <th>22</th>\n      <td>M6E</td>\n      <td>York</td>\n      <td>Caledonia-Fairbanks</td>\n    </tr>\n    <tr>\n      <th>23</th>\n      <td>M1G</td>\n      <td>Scarborough</td>\n      <td>Woburn</td>\n    </tr>\n    <tr>\n      <th>24</th>\n      <td>M4G</td>\n      <td>East York</td>\n      <td>Leaside</td>\n    </tr>\n    <tr>\n      <th>25</th>\n      <td>M5G</td>\n      <td>Downtown Toronto</td>\n      <td>Central Bay Street</td>\n    </tr>\n    <tr>\n      <th>26</th>\n      <td>M6G</td>\n      <td>Downtown Toronto</td>\n      <td>Christie</td>\n    </tr>\n    <tr>\n      <th>27</th>\n      <td>M1H</td>\n      <td>Scarborough</td>\n      <td>Cedarbrae</td>\n    </tr>\n    <tr>\n      <th>28</th>\n      <td>M2H</td>\n      <td>North York</td>\n      <td>Hillcrest Village</td>\n    </tr>\n    <tr>\n      <th>29</th>\n      <td>M3H</td>\n      <td>North York</td>\n      <td>Bathurst Manor,Wilson Heights</td>\n    </tr>\n    <tr>\n      <th>30</th>\n      <td>M4H</td>\n      <td>East York</td>\n      <td>Thorncliffe Park</td>\n    </tr>\n    <tr>\n      <th>...</th>\n      <td>...</td>\n      <td>...</td>\n      <td>...</td>\n    </tr>\n    <tr>\n      <th>74</th>\n      <td>M4R</td>\n      <td>Central Toronto</td>\n      <td>North Toronto West</td>\n    </tr>\n    <tr>\n      <th>75</th>\n      <td>M5R</td>\n      <td>Central Toronto</td>\n      <td>The Annex,Yorkville</td>\n    </tr>\n    <tr>\n      <th>76</th>\n      <td>M6R</td>\n      <td>West Toronto</td>\n      <td>Parkdale,Roncesvalles</td>\n    </tr>\n    <tr>\n      <th>77</th>\n      <td>M7R</td>\n      <td>Mississauga</td>\n      <td>Canada Post Gateway Processing Centre</td>\n    </tr>\n    <tr>\n      <th>78</th>\n      <td>M9R</td>\n      <td>Etobicoke</td>\n      <td>Kingsview Village,St. Phillips</td>\n    </tr>\n    <tr>\n      <th>79</th>\n      <td>M1S</td>\n      <td>Scarborough</td>\n      <td>Agincourt</td>\n    </tr>\n    <tr>\n      <th>80</th>\n      <td>M4S</td>\n      <td>Central Toronto</td>\n      <td>Davisville</td>\n    </tr>\n    <tr>\n      <th>81</th>\n      <td>M5S</td>\n      <td>Downtown Toronto</td>\n      <td>Harbord,University of Toronto</td>\n    </tr>\n    <tr>\n      <th>82</th>\n      <td>M6S</td>\n      <td>West Toronto</td>\n      <td>Runnymede,Swansea</td>\n    </tr>\n    <tr>\n      <th>83</th>\n      <td>M1T</td>\n      <td>Scarborough</td>\n      <td>Clarks Corners,Tam O'Shanter</td>\n    </tr>\n    <tr>\n      <th>84</th>\n      <td>M4T</td>\n      <td>Central Toronto</td>\n      <td>Moore Park,Summerhill East</td>\n    </tr>\n    <tr>\n      <th>85</th>\n      <td>M5T</td>\n      <td>Downtown Toronto</td>\n      <td>Chinatown,Kensington Market</td>\n    </tr>\n    <tr>\n      <th>86</th>\n      <td>M1V</td>\n      <td>Scarborough</td>\n      <td>Agincourt North,Steeles East</td>\n    </tr>\n    <tr>\n      <th>87</th>\n      <td>M4V</td>\n      <td>Central Toronto</td>\n      <td>Deer Park,Summerhill West</td>\n    </tr>\n    <tr>\n      <th>88</th>\n      <td>M5V</td>\n      <td>Downtown Toronto</td>\n      <td>CN Tower,South Niagara</td>\n    </tr>\n    <tr>\n      <th>89</th>\n      <td>M8V</td>\n      <td>Etobicoke</td>\n      <td>Humber Bay Shores,New Toronto</td>\n    </tr>\n    <tr>\n      <th>90</th>\n      <td>M9V</td>\n      <td>Etobicoke</td>\n      <td>Albion Gardens,Thistletown</td>\n    </tr>\n    <tr>\n      <th>91</th>\n      <td>M1W</td>\n      <td>Scarborough</td>\n      <td>L'Amoreaux West,Steeles West</td>\n    </tr>\n    <tr>\n      <th>92</th>\n      <td>M4W</td>\n      <td>Downtown Toronto</td>\n      <td>Rosedale</td>\n    </tr>\n    <tr>\n      <th>93</th>\n      <td>M5W</td>\n      <td>Downtown Toronto</td>\n      <td>Stn A PO Boxes 25 The Esplanade</td>\n    </tr>\n    <tr>\n      <th>94</th>\n      <td>M8W</td>\n      <td>Etobicoke</td>\n      <td>Alderwood,Long Branch</td>\n    </tr>\n    <tr>\n      <th>95</th>\n      <td>M9W</td>\n      <td>Etobicoke</td>\n      <td>Northwest</td>\n    </tr>\n    <tr>\n      <th>96</th>\n      <td>M1X</td>\n      <td>Scarborough</td>\n      <td>Upper Rouge</td>\n    </tr>\n    <tr>\n      <th>97</th>\n      <td>M4X</td>\n      <td>Downtown Toronto</td>\n      <td>Cabbagetown,St. James Town</td>\n    </tr>\n    <tr>\n      <th>98</th>\n      <td>M5X</td>\n      <td>Downtown Toronto</td>\n      <td>First Canadian Place,Underground city</td>\n    </tr>\n    <tr>\n      <th>99</th>\n      <td>M8X</td>\n      <td>Etobicoke</td>\n      <td>The Kingsway,Old Mill North</td>\n    </tr>\n    <tr>\n      <th>100</th>\n      <td>M4Y</td>\n      <td>Downtown Toronto</td>\n      <td>Church and Wellesley</td>\n    </tr>\n    <tr>\n      <th>101</th>\n      <td>M7Y</td>\n      <td>East Toronto</td>\n      <td>Business reply mail Processing Centre969 Eastern</td>\n    </tr>\n    <tr>\n      <th>102</th>\n      <td>M8Y</td>\n      <td>Etobicoke</td>\n      <td>Humber Bay,Sunnylea</td>\n    </tr>\n    <tr>\n      <th>103</th>\n      <td>M8Z</td>\n      <td>Etobicoke</td>\n      <td>Kingsway Park South West,South of Bloor</td>\n    </tr>\n  </tbody>\n</table>\n<p>103 rows \u00d7 3 columns</p>\n</div>"
                    }, 
                    "execution_count": 82, 
                    "metadata": {}
                }
            ], 
            "execution_count": 82
        }, 
        {
            "source": "Postcode\nBorough\nNeighbourhood", 
            "cell_type": "markdown", 
            "metadata": {}
        }, 
        {
            "source": "'''\nimport pandas as pd\ndf = pd.DataFrame(columns = [\"Postcode\", \"Borough\", \"Neighbourhood\"]) #\u521b\u5efa\u4e00\u4e2a\u7a7a\u7684dataframe\ntest=[\"test\",\"test\",[3,4,5]]\ndf.loc[1]=test\ndf\ncol=[1]\ncol.append(2)\ncol\n'''\ndf.shape", 
            "cell_type": "code", 
            "metadata": {}, 
            "outputs": [
                {
                    "output_type": "execute_result", 
                    "data": {
                        "text/plain": "(103, 3)"
                    }, 
                    "execution_count": 83, 
                    "metadata": {}
                }
            ], 
            "execution_count": 83
        }, 
        {
            "source": "", 
            "cell_type": "code", 
            "metadata": {}, 
            "outputs": [
                {
                    "output_type": "stream", 
                    "name": "stdout", 
                    "text": "<ibm_botocore.response.StreamingBody object at 0x7f752ec68a58>\n"
                }
            ], 
            "execution_count": 5
        }, 
        {
            "source": "", 
            "cell_type": "code", 
            "metadata": {}, 
            "outputs": [], 
            "execution_count": null
        }
    ], 
    "metadata": {
        "kernelspec": {
            "display_name": "Python 3.5", 
            "name": "python3", 
            "language": "python"
        }, 
        "language_info": {
            "mimetype": "text/x-python", 
            "nbconvert_exporter": "python", 
            "version": "3.5.5", 
            "name": "python", 
            "file_extension": ".py", 
            "pygments_lexer": "ipython3", 
            "codemirror_mode": {
                "version": 3, 
                "name": "ipython"
            }
        }
    }, 
    "nbformat": 4
}